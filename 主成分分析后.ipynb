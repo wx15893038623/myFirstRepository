{
 "cells": [
  {
   "cell_type": "code",
   "execution_count": 1,
   "metadata": {
    "collapsed": true
   },
   "outputs": [],
   "source": [
    "import numpy as np\n",
    "import pandas as pd\n",
    "import matplotlib.pyplot as plt\n",
    "import seaborn as sns"
   ]
  },
  {
   "cell_type": "code",
   "execution_count": 2,
   "metadata": {
    "scrolled": true
   },
   "outputs": [
    {
     "data": {
      "text/html": [
       "<div>\n",
       "<style>\n",
       "    .dataframe thead tr:only-child th {\n",
       "        text-align: right;\n",
       "    }\n",
       "\n",
       "    .dataframe thead th {\n",
       "        text-align: left;\n",
       "    }\n",
       "\n",
       "    .dataframe tbody tr th {\n",
       "        vertical-align: top;\n",
       "    }\n",
       "</style>\n",
       "<table border=\"1\" class=\"dataframe\">\n",
       "  <thead>\n",
       "    <tr style=\"text-align: right;\">\n",
       "      <th></th>\n",
       "      <th>Prin1</th>\n",
       "      <th>Prin2</th>\n",
       "      <th>Prin3</th>\n",
       "      <th>Prin4</th>\n",
       "      <th>Prin5</th>\n",
       "      <th>Prin6</th>\n",
       "      <th>Prin7</th>\n",
       "      <th>Prin8</th>\n",
       "      <th>Prin9</th>\n",
       "      <th>Prin10</th>\n",
       "      <th>...</th>\n",
       "      <th>Prin20</th>\n",
       "      <th>Prin21</th>\n",
       "      <th>Prin22</th>\n",
       "      <th>Prin23</th>\n",
       "      <th>Prin24</th>\n",
       "      <th>Prin25</th>\n",
       "      <th>Prin26</th>\n",
       "      <th>Prin27</th>\n",
       "      <th>Prin28</th>\n",
       "      <th>rank</th>\n",
       "    </tr>\n",
       "  </thead>\n",
       "  <tbody>\n",
       "    <tr>\n",
       "      <th>count</th>\n",
       "      <td>5.000000e+04</td>\n",
       "      <td>5.000000e+04</td>\n",
       "      <td>5.000000e+04</td>\n",
       "      <td>5.000000e+04</td>\n",
       "      <td>5.000000e+04</td>\n",
       "      <td>5.000000e+04</td>\n",
       "      <td>5.000000e+04</td>\n",
       "      <td>5.000000e+04</td>\n",
       "      <td>5.000000e+04</td>\n",
       "      <td>5.000000e+04</td>\n",
       "      <td>...</td>\n",
       "      <td>5.000000e+04</td>\n",
       "      <td>5.000000e+04</td>\n",
       "      <td>5.000000e+04</td>\n",
       "      <td>5.000000e+04</td>\n",
       "      <td>5.000000e+04</td>\n",
       "      <td>5.000000e+04</td>\n",
       "      <td>5.000000e+04</td>\n",
       "      <td>5.000000e+04</td>\n",
       "      <td>5.000000e+04</td>\n",
       "      <td>50000.000000</td>\n",
       "    </tr>\n",
       "    <tr>\n",
       "      <th>mean</th>\n",
       "      <td>2.385997e-11</td>\n",
       "      <td>2.505999e-11</td>\n",
       "      <td>2.220002e-11</td>\n",
       "      <td>2.080001e-11</td>\n",
       "      <td>2.192001e-11</td>\n",
       "      <td>2.093999e-11</td>\n",
       "      <td>2.944001e-11</td>\n",
       "      <td>2.196000e-11</td>\n",
       "      <td>2.428002e-11</td>\n",
       "      <td>2.756002e-11</td>\n",
       "      <td>...</td>\n",
       "      <td>2.758000e-11</td>\n",
       "      <td>2.796000e-11</td>\n",
       "      <td>2.374000e-11</td>\n",
       "      <td>2.408001e-11</td>\n",
       "      <td>2.540001e-11</td>\n",
       "      <td>2.428001e-11</td>\n",
       "      <td>2.760000e-11</td>\n",
       "      <td>2.554000e-11</td>\n",
       "      <td>2.474000e-11</td>\n",
       "      <td>2.701520</td>\n",
       "    </tr>\n",
       "    <tr>\n",
       "      <th>std</th>\n",
       "      <td>1.888348e+00</td>\n",
       "      <td>1.361930e+00</td>\n",
       "      <td>1.326958e+00</td>\n",
       "      <td>1.099904e+00</td>\n",
       "      <td>1.048174e+00</td>\n",
       "      <td>1.034986e+00</td>\n",
       "      <td>1.024652e+00</td>\n",
       "      <td>1.009321e+00</td>\n",
       "      <td>1.004256e+00</td>\n",
       "      <td>1.000682e+00</td>\n",
       "      <td>...</td>\n",
       "      <td>8.849405e-01</td>\n",
       "      <td>8.629467e-01</td>\n",
       "      <td>8.499000e-01</td>\n",
       "      <td>8.101291e-01</td>\n",
       "      <td>8.045446e-01</td>\n",
       "      <td>7.790020e-01</td>\n",
       "      <td>7.256441e-01</td>\n",
       "      <td>5.830105e-01</td>\n",
       "      <td>3.095882e-01</td>\n",
       "      <td>0.487026</td>\n",
       "    </tr>\n",
       "    <tr>\n",
       "      <th>min</th>\n",
       "      <td>-3.977598e+00</td>\n",
       "      <td>-3.442166e+01</td>\n",
       "      <td>-1.173288e+01</td>\n",
       "      <td>-4.923675e+00</td>\n",
       "      <td>-6.635826e+01</td>\n",
       "      <td>-2.605718e+01</td>\n",
       "      <td>-2.039120e+01</td>\n",
       "      <td>-3.762881e+01</td>\n",
       "      <td>-2.628784e+01</td>\n",
       "      <td>-5.969583e+01</td>\n",
       "      <td>...</td>\n",
       "      <td>-5.721596e+00</td>\n",
       "      <td>-1.546267e+01</td>\n",
       "      <td>-7.860007e+01</td>\n",
       "      <td>-3.679590e+00</td>\n",
       "      <td>-2.728533e+00</td>\n",
       "      <td>-1.357565e+01</td>\n",
       "      <td>-5.361238e+00</td>\n",
       "      <td>-9.667587e+00</td>\n",
       "      <td>-6.886309e+00</td>\n",
       "      <td>1.000000</td>\n",
       "    </tr>\n",
       "    <tr>\n",
       "      <th>25%</th>\n",
       "      <td>-1.372418e+00</td>\n",
       "      <td>-8.312253e-01</td>\n",
       "      <td>-8.050041e-01</td>\n",
       "      <td>-6.839848e-01</td>\n",
       "      <td>-5.485824e-01</td>\n",
       "      <td>-6.120836e-01</td>\n",
       "      <td>-2.904617e-01</td>\n",
       "      <td>-3.350064e-01</td>\n",
       "      <td>-3.242801e-01</td>\n",
       "      <td>-4.462402e-01</td>\n",
       "      <td>...</td>\n",
       "      <td>-5.804942e-01</td>\n",
       "      <td>-1.640527e-01</td>\n",
       "      <td>-3.629974e-01</td>\n",
       "      <td>-4.182452e-01</td>\n",
       "      <td>-3.596775e-01</td>\n",
       "      <td>-4.675898e-01</td>\n",
       "      <td>-4.325880e-01</td>\n",
       "      <td>-3.318472e-01</td>\n",
       "      <td>-9.916139e-02</td>\n",
       "      <td>2.000000</td>\n",
       "    </tr>\n",
       "    <tr>\n",
       "      <th>50%</th>\n",
       "      <td>-1.913987e-01</td>\n",
       "      <td>-1.943093e-02</td>\n",
       "      <td>-5.251957e-02</td>\n",
       "      <td>-1.370389e-01</td>\n",
       "      <td>2.968148e-02</td>\n",
       "      <td>-1.589895e-01</td>\n",
       "      <td>5.720443e-02</td>\n",
       "      <td>-6.123221e-02</td>\n",
       "      <td>-5.516027e-02</td>\n",
       "      <td>6.818296e-02</td>\n",
       "      <td>...</td>\n",
       "      <td>2.903631e-02</td>\n",
       "      <td>1.894055e-02</td>\n",
       "      <td>-7.781856e-02</td>\n",
       "      <td>-4.676405e-02</td>\n",
       "      <td>1.048527e-02</td>\n",
       "      <td>-3.511849e-03</td>\n",
       "      <td>-3.076853e-02</td>\n",
       "      <td>2.451631e-02</td>\n",
       "      <td>3.729512e-03</td>\n",
       "      <td>3.000000</td>\n",
       "    </tr>\n",
       "    <tr>\n",
       "      <th>75%</th>\n",
       "      <td>1.138774e+00</td>\n",
       "      <td>8.276057e-01</td>\n",
       "      <td>7.424904e-01</td>\n",
       "      <td>6.153057e-01</td>\n",
       "      <td>5.618019e-01</td>\n",
       "      <td>3.890287e-01</td>\n",
       "      <td>3.256458e-01</td>\n",
       "      <td>2.356213e-01</td>\n",
       "      <td>2.282950e-01</td>\n",
       "      <td>4.028959e-01</td>\n",
       "      <td>...</td>\n",
       "      <td>3.921428e-01</td>\n",
       "      <td>2.189305e-01</td>\n",
       "      <td>2.766695e-01</td>\n",
       "      <td>5.426167e-01</td>\n",
       "      <td>3.124259e-01</td>\n",
       "      <td>4.788537e-01</td>\n",
       "      <td>3.814961e-01</td>\n",
       "      <td>3.914786e-01</td>\n",
       "      <td>8.645521e-02</td>\n",
       "      <td>3.000000</td>\n",
       "    </tr>\n",
       "    <tr>\n",
       "      <th>max</th>\n",
       "      <td>2.494301e+01</td>\n",
       "      <td>1.456015e+01</td>\n",
       "      <td>2.961076e+01</td>\n",
       "      <td>4.144916e+01</td>\n",
       "      <td>4.879803e+01</td>\n",
       "      <td>3.504635e+01</td>\n",
       "      <td>7.721109e+01</td>\n",
       "      <td>1.118113e+02</td>\n",
       "      <td>8.771684e+01</td>\n",
       "      <td>1.038402e+02</td>\n",
       "      <td>...</td>\n",
       "      <td>1.524647e+01</td>\n",
       "      <td>1.157453e+01</td>\n",
       "      <td>1.559852e+01</td>\n",
       "      <td>9.602676e+00</td>\n",
       "      <td>8.113935e+00</td>\n",
       "      <td>2.126442e+01</td>\n",
       "      <td>1.833291e+01</td>\n",
       "      <td>9.058329e+00</td>\n",
       "      <td>7.982042e+00</td>\n",
       "      <td>4.000000</td>\n",
       "    </tr>\n",
       "  </tbody>\n",
       "</table>\n",
       "<p>8 rows × 29 columns</p>\n",
       "</div>"
      ],
      "text/plain": [
       "              Prin1         Prin2         Prin3         Prin4         Prin5  \\\n",
       "count  5.000000e+04  5.000000e+04  5.000000e+04  5.000000e+04  5.000000e+04   \n",
       "mean   2.385997e-11  2.505999e-11  2.220002e-11  2.080001e-11  2.192001e-11   \n",
       "std    1.888348e+00  1.361930e+00  1.326958e+00  1.099904e+00  1.048174e+00   \n",
       "min   -3.977598e+00 -3.442166e+01 -1.173288e+01 -4.923675e+00 -6.635826e+01   \n",
       "25%   -1.372418e+00 -8.312253e-01 -8.050041e-01 -6.839848e-01 -5.485824e-01   \n",
       "50%   -1.913987e-01 -1.943093e-02 -5.251957e-02 -1.370389e-01  2.968148e-02   \n",
       "75%    1.138774e+00  8.276057e-01  7.424904e-01  6.153057e-01  5.618019e-01   \n",
       "max    2.494301e+01  1.456015e+01  2.961076e+01  4.144916e+01  4.879803e+01   \n",
       "\n",
       "              Prin6         Prin7         Prin8         Prin9        Prin10  \\\n",
       "count  5.000000e+04  5.000000e+04  5.000000e+04  5.000000e+04  5.000000e+04   \n",
       "mean   2.093999e-11  2.944001e-11  2.196000e-11  2.428002e-11  2.756002e-11   \n",
       "std    1.034986e+00  1.024652e+00  1.009321e+00  1.004256e+00  1.000682e+00   \n",
       "min   -2.605718e+01 -2.039120e+01 -3.762881e+01 -2.628784e+01 -5.969583e+01   \n",
       "25%   -6.120836e-01 -2.904617e-01 -3.350064e-01 -3.242801e-01 -4.462402e-01   \n",
       "50%   -1.589895e-01  5.720443e-02 -6.123221e-02 -5.516027e-02  6.818296e-02   \n",
       "75%    3.890287e-01  3.256458e-01  2.356213e-01  2.282950e-01  4.028959e-01   \n",
       "max    3.504635e+01  7.721109e+01  1.118113e+02  8.771684e+01  1.038402e+02   \n",
       "\n",
       "           ...             Prin20        Prin21        Prin22        Prin23  \\\n",
       "count      ...       5.000000e+04  5.000000e+04  5.000000e+04  5.000000e+04   \n",
       "mean       ...       2.758000e-11  2.796000e-11  2.374000e-11  2.408001e-11   \n",
       "std        ...       8.849405e-01  8.629467e-01  8.499000e-01  8.101291e-01   \n",
       "min        ...      -5.721596e+00 -1.546267e+01 -7.860007e+01 -3.679590e+00   \n",
       "25%        ...      -5.804942e-01 -1.640527e-01 -3.629974e-01 -4.182452e-01   \n",
       "50%        ...       2.903631e-02  1.894055e-02 -7.781856e-02 -4.676405e-02   \n",
       "75%        ...       3.921428e-01  2.189305e-01  2.766695e-01  5.426167e-01   \n",
       "max        ...       1.524647e+01  1.157453e+01  1.559852e+01  9.602676e+00   \n",
       "\n",
       "             Prin24        Prin25        Prin26        Prin27        Prin28  \\\n",
       "count  5.000000e+04  5.000000e+04  5.000000e+04  5.000000e+04  5.000000e+04   \n",
       "mean   2.540001e-11  2.428001e-11  2.760000e-11  2.554000e-11  2.474000e-11   \n",
       "std    8.045446e-01  7.790020e-01  7.256441e-01  5.830105e-01  3.095882e-01   \n",
       "min   -2.728533e+00 -1.357565e+01 -5.361238e+00 -9.667587e+00 -6.886309e+00   \n",
       "25%   -3.596775e-01 -4.675898e-01 -4.325880e-01 -3.318472e-01 -9.916139e-02   \n",
       "50%    1.048527e-02 -3.511849e-03 -3.076853e-02  2.451631e-02  3.729512e-03   \n",
       "75%    3.124259e-01  4.788537e-01  3.814961e-01  3.914786e-01  8.645521e-02   \n",
       "max    8.113935e+00  2.126442e+01  1.833291e+01  9.058329e+00  7.982042e+00   \n",
       "\n",
       "               rank  \n",
       "count  50000.000000  \n",
       "mean       2.701520  \n",
       "std        0.487026  \n",
       "min        1.000000  \n",
       "25%        2.000000  \n",
       "50%        3.000000  \n",
       "75%        3.000000  \n",
       "max        4.000000  \n",
       "\n",
       "[8 rows x 29 columns]"
      ]
     },
     "execution_count": 2,
     "metadata": {},
     "output_type": "execute_result"
    }
   ],
   "source": [
    "df=pd.read_csv(\"aa_prin.csv\")\n",
    "df.describe()"
   ]
  },
  {
   "cell_type": "code",
   "execution_count": 27,
   "metadata": {},
   "outputs": [
    {
     "data": {
      "text/plain": [
       "VAR1      0\n",
       "Prin1     0\n",
       "Prin2     0\n",
       "Prin3     0\n",
       "Prin4     0\n",
       "Prin5     0\n",
       "Prin6     0\n",
       "Prin7     0\n",
       "Prin8     0\n",
       "Prin9     0\n",
       "Prin10    0\n",
       "Prin11    0\n",
       "Prin12    0\n",
       "Prin13    0\n",
       "Prin14    0\n",
       "Prin15    0\n",
       "Prin16    0\n",
       "Prin17    0\n",
       "Prin18    0\n",
       "Prin19    0\n",
       "Prin20    0\n",
       "Prin21    0\n",
       "Prin22    0\n",
       "Prin23    0\n",
       "Prin24    0\n",
       "Prin25    0\n",
       "Prin26    0\n",
       "Prin27    0\n",
       "Prin28    0\n",
       "rank      0\n",
       "dtype: int64"
      ]
     },
     "execution_count": 27,
     "metadata": {},
     "output_type": "execute_result"
    }
   ],
   "source": [
    "#检验是否含有空值\n",
    "df.isnull().sum()"
   ]
  },
  {
   "cell_type": "code",
   "execution_count": 28,
   "metadata": {},
   "outputs": [
    {
     "data": {
      "text/plain": [
       "VAR1       object\n",
       "Prin1     float64\n",
       "Prin2     float64\n",
       "Prin3     float64\n",
       "Prin4     float64\n",
       "Prin5     float64\n",
       "Prin6     float64\n",
       "Prin7     float64\n",
       "Prin8     float64\n",
       "Prin9     float64\n",
       "Prin10    float64\n",
       "Prin11    float64\n",
       "Prin12    float64\n",
       "Prin13    float64\n",
       "Prin14    float64\n",
       "Prin15    float64\n",
       "Prin16    float64\n",
       "Prin17    float64\n",
       "Prin18    float64\n",
       "Prin19    float64\n",
       "Prin20    float64\n",
       "Prin21    float64\n",
       "Prin22    float64\n",
       "Prin23    float64\n",
       "Prin24    float64\n",
       "Prin25    float64\n",
       "Prin26    float64\n",
       "Prin27    float64\n",
       "Prin28    float64\n",
       "rank        int64\n",
       "dtype: object"
      ]
     },
     "execution_count": 28,
     "metadata": {},
     "output_type": "execute_result"
    }
   ],
   "source": [
    "#检查数值类型\n",
    "df.dtypes"
   ]
  },
  {
   "cell_type": "code",
   "execution_count": 3,
   "metadata": {
    "scrolled": false
   },
   "outputs": [
    {
     "data": {
      "text/html": [
       "<div>\n",
       "<style>\n",
       "    .dataframe thead tr:only-child th {\n",
       "        text-align: right;\n",
       "    }\n",
       "\n",
       "    .dataframe thead th {\n",
       "        text-align: left;\n",
       "    }\n",
       "\n",
       "    .dataframe tbody tr th {\n",
       "        vertical-align: top;\n",
       "    }\n",
       "</style>\n",
       "<table border=\"1\" class=\"dataframe\">\n",
       "  <thead>\n",
       "    <tr style=\"text-align: right;\">\n",
       "      <th></th>\n",
       "      <th>VAR1</th>\n",
       "      <th>Prin1</th>\n",
       "      <th>Prin2</th>\n",
       "      <th>Prin3</th>\n",
       "      <th>Prin4</th>\n",
       "      <th>Prin5</th>\n",
       "      <th>Prin6</th>\n",
       "      <th>Prin7</th>\n",
       "      <th>Prin8</th>\n",
       "      <th>Prin9</th>\n",
       "      <th>...</th>\n",
       "      <th>Prin21</th>\n",
       "      <th>Prin22</th>\n",
       "      <th>Prin23</th>\n",
       "      <th>Prin24</th>\n",
       "      <th>Prin25</th>\n",
       "      <th>Prin26</th>\n",
       "      <th>Prin27</th>\n",
       "      <th>Prin28</th>\n",
       "      <th>VAR30</th>\n",
       "      <th>clt</th>\n",
       "    </tr>\n",
       "  </thead>\n",
       "  <tbody>\n",
       "    <tr>\n",
       "      <th>0</th>\n",
       "      <td>a4651f98c82948b186bdcdc8108381b4</td>\n",
       "      <td>2.666547</td>\n",
       "      <td>0.975368</td>\n",
       "      <td>-0.477192</td>\n",
       "      <td>0.168702</td>\n",
       "      <td>0.332776</td>\n",
       "      <td>-0.380259</td>\n",
       "      <td>-0.113992</td>\n",
       "      <td>-0.038242</td>\n",
       "      <td>-0.830351</td>\n",
       "      <td>...</td>\n",
       "      <td>-0.633676</td>\n",
       "      <td>-0.120085</td>\n",
       "      <td>-0.167528</td>\n",
       "      <td>0.432424</td>\n",
       "      <td>0.071083</td>\n",
       "      <td>-0.477183</td>\n",
       "      <td>0.268596</td>\n",
       "      <td>-0.099015</td>\n",
       "      <td>664</td>\n",
       "      <td>3</td>\n",
       "    </tr>\n",
       "    <tr>\n",
       "      <th>1</th>\n",
       "      <td>aeb10247db4e4d67b2550bbc42ff9827</td>\n",
       "      <td>0.656378</td>\n",
       "      <td>-4.072227</td>\n",
       "      <td>2.288579</td>\n",
       "      <td>0.833323</td>\n",
       "      <td>-1.547224</td>\n",
       "      <td>0.840202</td>\n",
       "      <td>-1.368763</td>\n",
       "      <td>0.510078</td>\n",
       "      <td>0.229968</td>\n",
       "      <td>...</td>\n",
       "      <td>-0.139519</td>\n",
       "      <td>-0.745387</td>\n",
       "      <td>-0.004248</td>\n",
       "      <td>1.222345</td>\n",
       "      <td>-0.405085</td>\n",
       "      <td>-0.119172</td>\n",
       "      <td>0.626585</td>\n",
       "      <td>-0.169313</td>\n",
       "      <td>530</td>\n",
       "      <td>2</td>\n",
       "    </tr>\n",
       "    <tr>\n",
       "      <th>2</th>\n",
       "      <td>5af23a1e0e77410abb25e9a7eee510aa</td>\n",
       "      <td>-0.310245</td>\n",
       "      <td>-0.986713</td>\n",
       "      <td>-1.390811</td>\n",
       "      <td>0.403774</td>\n",
       "      <td>1.241348</td>\n",
       "      <td>0.063397</td>\n",
       "      <td>-0.031708</td>\n",
       "      <td>-0.718081</td>\n",
       "      <td>-0.306690</td>\n",
       "      <td>...</td>\n",
       "      <td>0.017945</td>\n",
       "      <td>-0.026883</td>\n",
       "      <td>-0.123473</td>\n",
       "      <td>0.223784</td>\n",
       "      <td>0.137409</td>\n",
       "      <td>-0.069529</td>\n",
       "      <td>0.109868</td>\n",
       "      <td>0.051212</td>\n",
       "      <td>643</td>\n",
       "      <td>3</td>\n",
       "    </tr>\n",
       "    <tr>\n",
       "      <th>3</th>\n",
       "      <td>43c64379d3c24a15b8478851b22049e4</td>\n",
       "      <td>1.718618</td>\n",
       "      <td>1.422419</td>\n",
       "      <td>-1.228068</td>\n",
       "      <td>0.175226</td>\n",
       "      <td>0.759669</td>\n",
       "      <td>-0.003641</td>\n",
       "      <td>-0.252822</td>\n",
       "      <td>0.097994</td>\n",
       "      <td>-0.833013</td>\n",
       "      <td>...</td>\n",
       "      <td>-0.078799</td>\n",
       "      <td>-0.136664</td>\n",
       "      <td>-0.639004</td>\n",
       "      <td>-0.540702</td>\n",
       "      <td>-0.044820</td>\n",
       "      <td>-0.462674</td>\n",
       "      <td>0.256072</td>\n",
       "      <td>0.804352</td>\n",
       "      <td>649</td>\n",
       "      <td>3</td>\n",
       "    </tr>\n",
       "    <tr>\n",
       "      <th>4</th>\n",
       "      <td>f1687f3b8a6f4910bd0b13eb634056e2</td>\n",
       "      <td>0.365914</td>\n",
       "      <td>0.098008</td>\n",
       "      <td>-0.009723</td>\n",
       "      <td>-0.687181</td>\n",
       "      <td>0.024571</td>\n",
       "      <td>-0.690539</td>\n",
       "      <td>-0.122798</td>\n",
       "      <td>0.168505</td>\n",
       "      <td>-0.149080</td>\n",
       "      <td>...</td>\n",
       "      <td>-0.384648</td>\n",
       "      <td>-0.038893</td>\n",
       "      <td>1.135344</td>\n",
       "      <td>0.251816</td>\n",
       "      <td>-0.249261</td>\n",
       "      <td>0.779049</td>\n",
       "      <td>0.326367</td>\n",
       "      <td>0.052988</td>\n",
       "      <td>648</td>\n",
       "      <td>3</td>\n",
       "    </tr>\n",
       "    <tr>\n",
       "      <th>5</th>\n",
       "      <td>52795d470db4478584f6c92f66af0294</td>\n",
       "      <td>1.921816</td>\n",
       "      <td>0.390492</td>\n",
       "      <td>2.112579</td>\n",
       "      <td>2.609838</td>\n",
       "      <td>1.099455</td>\n",
       "      <td>-1.265820</td>\n",
       "      <td>0.203199</td>\n",
       "      <td>-0.586320</td>\n",
       "      <td>-1.014802</td>\n",
       "      <td>...</td>\n",
       "      <td>-0.377028</td>\n",
       "      <td>-0.217413</td>\n",
       "      <td>-0.456397</td>\n",
       "      <td>0.596548</td>\n",
       "      <td>0.036687</td>\n",
       "      <td>1.356649</td>\n",
       "      <td>-0.836207</td>\n",
       "      <td>-0.097925</td>\n",
       "      <td>656</td>\n",
       "      <td>3</td>\n",
       "    </tr>\n",
       "    <tr>\n",
       "      <th>6</th>\n",
       "      <td>0d758e1b10cc4f618dda9f87fc948068</td>\n",
       "      <td>3.924470</td>\n",
       "      <td>0.436465</td>\n",
       "      <td>1.656332</td>\n",
       "      <td>-1.392594</td>\n",
       "      <td>-0.747651</td>\n",
       "      <td>1.027962</td>\n",
       "      <td>0.102732</td>\n",
       "      <td>-0.574915</td>\n",
       "      <td>0.195736</td>\n",
       "      <td>...</td>\n",
       "      <td>-3.713998</td>\n",
       "      <td>-0.576414</td>\n",
       "      <td>-0.728012</td>\n",
       "      <td>0.112482</td>\n",
       "      <td>0.439702</td>\n",
       "      <td>0.520071</td>\n",
       "      <td>0.151063</td>\n",
       "      <td>0.528705</td>\n",
       "      <td>612</td>\n",
       "      <td>3</td>\n",
       "    </tr>\n",
       "    <tr>\n",
       "      <th>7</th>\n",
       "      <td>b05585f9635245f282bf2cffd3c5773c</td>\n",
       "      <td>-1.115832</td>\n",
       "      <td>-1.604445</td>\n",
       "      <td>-0.266999</td>\n",
       "      <td>-0.671906</td>\n",
       "      <td>0.232798</td>\n",
       "      <td>-0.768725</td>\n",
       "      <td>0.108669</td>\n",
       "      <td>-0.404346</td>\n",
       "      <td>0.282179</td>\n",
       "      <td>...</td>\n",
       "      <td>-0.005240</td>\n",
       "      <td>-0.285951</td>\n",
       "      <td>-0.155194</td>\n",
       "      <td>0.231320</td>\n",
       "      <td>0.009073</td>\n",
       "      <td>0.428999</td>\n",
       "      <td>0.173539</td>\n",
       "      <td>-0.032534</td>\n",
       "      <td>628</td>\n",
       "      <td>3</td>\n",
       "    </tr>\n",
       "    <tr>\n",
       "      <th>8</th>\n",
       "      <td>acde81ca14eb429a983bec773e16098c</td>\n",
       "      <td>-0.341557</td>\n",
       "      <td>-0.380781</td>\n",
       "      <td>1.591299</td>\n",
       "      <td>-1.008768</td>\n",
       "      <td>1.040126</td>\n",
       "      <td>-1.280564</td>\n",
       "      <td>-0.453423</td>\n",
       "      <td>0.264673</td>\n",
       "      <td>-0.089013</td>\n",
       "      <td>...</td>\n",
       "      <td>-0.666720</td>\n",
       "      <td>-0.466455</td>\n",
       "      <td>1.194768</td>\n",
       "      <td>0.411008</td>\n",
       "      <td>-0.665615</td>\n",
       "      <td>0.683646</td>\n",
       "      <td>-0.318101</td>\n",
       "      <td>0.095413</td>\n",
       "      <td>547</td>\n",
       "      <td>2</td>\n",
       "    </tr>\n",
       "    <tr>\n",
       "      <th>9</th>\n",
       "      <td>1f78ee310e9d48449b8d5a1fd1537286</td>\n",
       "      <td>-2.271918</td>\n",
       "      <td>-0.803000</td>\n",
       "      <td>-0.355451</td>\n",
       "      <td>-0.647891</td>\n",
       "      <td>1.405612</td>\n",
       "      <td>-0.216312</td>\n",
       "      <td>-0.198429</td>\n",
       "      <td>-0.413754</td>\n",
       "      <td>-0.066499</td>\n",
       "      <td>...</td>\n",
       "      <td>0.081595</td>\n",
       "      <td>0.161626</td>\n",
       "      <td>-0.090640</td>\n",
       "      <td>0.125693</td>\n",
       "      <td>0.877869</td>\n",
       "      <td>1.014405</td>\n",
       "      <td>-0.319467</td>\n",
       "      <td>0.002857</td>\n",
       "      <td>599</td>\n",
       "      <td>2</td>\n",
       "    </tr>\n",
       "  </tbody>\n",
       "</table>\n",
       "<p>10 rows × 31 columns</p>\n",
       "</div>"
      ],
      "text/plain": [
       "                               VAR1     Prin1     Prin2     Prin3     Prin4  \\\n",
       "0  a4651f98c82948b186bdcdc8108381b4  2.666547  0.975368 -0.477192  0.168702   \n",
       "1  aeb10247db4e4d67b2550bbc42ff9827  0.656378 -4.072227  2.288579  0.833323   \n",
       "2  5af23a1e0e77410abb25e9a7eee510aa -0.310245 -0.986713 -1.390811  0.403774   \n",
       "3  43c64379d3c24a15b8478851b22049e4  1.718618  1.422419 -1.228068  0.175226   \n",
       "4  f1687f3b8a6f4910bd0b13eb634056e2  0.365914  0.098008 -0.009723 -0.687181   \n",
       "5  52795d470db4478584f6c92f66af0294  1.921816  0.390492  2.112579  2.609838   \n",
       "6  0d758e1b10cc4f618dda9f87fc948068  3.924470  0.436465  1.656332 -1.392594   \n",
       "7  b05585f9635245f282bf2cffd3c5773c -1.115832 -1.604445 -0.266999 -0.671906   \n",
       "8  acde81ca14eb429a983bec773e16098c -0.341557 -0.380781  1.591299 -1.008768   \n",
       "9  1f78ee310e9d48449b8d5a1fd1537286 -2.271918 -0.803000 -0.355451 -0.647891   \n",
       "\n",
       "      Prin5     Prin6     Prin7     Prin8     Prin9 ...     Prin21    Prin22  \\\n",
       "0  0.332776 -0.380259 -0.113992 -0.038242 -0.830351 ...  -0.633676 -0.120085   \n",
       "1 -1.547224  0.840202 -1.368763  0.510078  0.229968 ...  -0.139519 -0.745387   \n",
       "2  1.241348  0.063397 -0.031708 -0.718081 -0.306690 ...   0.017945 -0.026883   \n",
       "3  0.759669 -0.003641 -0.252822  0.097994 -0.833013 ...  -0.078799 -0.136664   \n",
       "4  0.024571 -0.690539 -0.122798  0.168505 -0.149080 ...  -0.384648 -0.038893   \n",
       "5  1.099455 -1.265820  0.203199 -0.586320 -1.014802 ...  -0.377028 -0.217413   \n",
       "6 -0.747651  1.027962  0.102732 -0.574915  0.195736 ...  -3.713998 -0.576414   \n",
       "7  0.232798 -0.768725  0.108669 -0.404346  0.282179 ...  -0.005240 -0.285951   \n",
       "8  1.040126 -1.280564 -0.453423  0.264673 -0.089013 ...  -0.666720 -0.466455   \n",
       "9  1.405612 -0.216312 -0.198429 -0.413754 -0.066499 ...   0.081595  0.161626   \n",
       "\n",
       "     Prin23    Prin24    Prin25    Prin26    Prin27    Prin28  VAR30  clt  \n",
       "0 -0.167528  0.432424  0.071083 -0.477183  0.268596 -0.099015    664    3  \n",
       "1 -0.004248  1.222345 -0.405085 -0.119172  0.626585 -0.169313    530    2  \n",
       "2 -0.123473  0.223784  0.137409 -0.069529  0.109868  0.051212    643    3  \n",
       "3 -0.639004 -0.540702 -0.044820 -0.462674  0.256072  0.804352    649    3  \n",
       "4  1.135344  0.251816 -0.249261  0.779049  0.326367  0.052988    648    3  \n",
       "5 -0.456397  0.596548  0.036687  1.356649 -0.836207 -0.097925    656    3  \n",
       "6 -0.728012  0.112482  0.439702  0.520071  0.151063  0.528705    612    3  \n",
       "7 -0.155194  0.231320  0.009073  0.428999  0.173539 -0.032534    628    3  \n",
       "8  1.194768  0.411008 -0.665615  0.683646 -0.318101  0.095413    547    2  \n",
       "9 -0.090640  0.125693  0.877869  1.014405 -0.319467  0.002857    599    2  \n",
       "\n",
       "[10 rows x 31 columns]"
      ]
     },
     "execution_count": 3,
     "metadata": {},
     "output_type": "execute_result"
    }
   ],
   "source": [
    "df.head(10)"
   ]
  },
  {
   "cell_type": "code",
   "execution_count": 3,
   "metadata": {},
   "outputs": [
    {
     "data": {
      "image/png": "[encoded data removed]",
      "text/plain": [
       "<matplotlib.figure.Figure at 0x1ec6461feb8>"
      ]
     },
     "metadata": {},
     "output_type": "display_data"
    }
   ],
   "source": [
    "#各列直方图\n",
    "df.hist(figsize=(20,20))\n",
    "plt.savefig('1.jpg')\n",
    "plt.show()"
   ]
  },
  {
   "cell_type": "markdown",
   "metadata": {},
   "source": [
    "sns.heatmap(df.isnull())\n",
    "plt.show()"
   ]
  },
  {
   "cell_type": "code",
   "execution_count": 26,
   "metadata": {
    "scrolled": true
   },
   "outputs": [
    {
     "data": {
      "image/png": "[encoded data removed]",
      "text/plain": [
       "<matplotlib.figure.Figure at 0x1ec66309048>"
      ]
     },
     "metadata": {},
     "output_type": "display_data"
    }
   ],
   "source": [
    "#各列数据不同信用等级的分布状态\n",
    "fig = plt.figure(figsize = (8, 10))\n",
    "j = 0\n",
    "\n",
    "for i in df.columns[1:10]:\n",
    "    plt.subplot(3, 3, j+1)\n",
    "    j += 1\n",
    "    sns.distplot(df[i][df['rank']==1], color='g', label = '1')\n",
    "    sns.distplot(df[i][df['rank']==2], color='r', label = '2')\n",
    "    sns.distplot(df[i][df['rank']==3], color='b', label = '3')\n",
    "    sns.distplot(df[i][df['rank']==4], color='y', label = '4')\n",
    "    plt.legend(loc='best')\n",
    "#fig.suptitle('各列数据不同信用等级的分布状态（主成分分析后）')\n",
    "fig.tight_layout()\n",
    "fig.subplots_adjust(top=0.95)\n",
    "plt.savefig('2.jpg')\n",
    "plt.show()"
   ]
  },
  {
   "cell_type": "code",
   "execution_count": 5,
   "metadata": {
    "collapsed": true
   },
   "outputs": [],
   "source": [
    "x = df.drop(['VAR1','rank'],axis=1)\n",
    "y = df.loc[:, df.columns == 'rank']"
   ]
  },
  {
   "cell_type": "code",
   "execution_count": 6,
   "metadata": {},
   "outputs": [
    {
     "name": "stderr",
     "output_type": "stream",
     "text": [
      "C:\\Users\\1\\Anaconda3\\lib\\site-packages\\sklearn\\cross_validation.py:41: DeprecationWarning: This module was deprecated in version 0.18 in favor of the model_selection module into which all the refactored classes and functions are moved. Also note that the interface of the new CV iterators are different from that of this module. This module will be removed in 0.20.\n",
      "  \"This module will be removed in 0.20.\", DeprecationWarning)\n"
     ]
    }
   ],
   "source": [
    "#训练集与测试集比例：7：3\n",
    "from sklearn.cross_validation import train_test_split\n",
    "\n",
    "X_train, X_test, y_train, y_test = train_test_split(x,y,test_size = 0.3, random_state = 1)"
   ]
  },
  {
   "cell_type": "code",
   "execution_count": null,
   "metadata": {
    "collapsed": true
   },
   "outputs": [],
   "source": [
    "#逻辑回归"
   ]
  },
  {
   "cell_type": "code",
   "execution_count": 8,
   "metadata": {
    "collapsed": true
   },
   "outputs": [],
   "source": [
    "from sklearn.linear_model import LogisticRegression"
   ]
  },
  {
   "cell_type": "code",
   "execution_count": 12,
   "metadata": {},
   "outputs": [
    {
     "name": "stderr",
     "output_type": "stream",
     "text": [
      "C:\\Users\\1\\Anaconda3\\lib\\site-packages\\sklearn\\utils\\validation.py:578: DataConversionWarning: A column-vector y was passed when a 1d array was expected. Please change the shape of y to (n_samples, ), for example using ravel().\n",
      "  y = column_or_1d(y, warn=True)\n"
     ]
    },
    {
     "data": {
      "text/plain": [
       "0.8444"
      ]
     },
     "execution_count": 12,
     "metadata": {},
     "output_type": "execute_result"
    }
   ],
   "source": [
    "model = LogisticRegression(C=3,solver='liblinear',tol=0.0001)\n",
    "model.fit( X_train , y_train )\n",
    "model.score( X_test , y_test )"
   ]
  },
  {
   "cell_type": "code",
   "execution_count": null,
   "metadata": {
    "collapsed": true
   },
   "outputs": [],
   "source": [
    "#朴素贝叶斯"
   ]
  },
  {
   "cell_type": "code",
   "execution_count": 13,
   "metadata": {
    "collapsed": true
   },
   "outputs": [],
   "source": [
    "from sklearn.naive_bayes import GaussianNB"
   ]
  },
  {
   "cell_type": "code",
   "execution_count": 14,
   "metadata": {},
   "outputs": [
    {
     "name": "stderr",
     "output_type": "stream",
     "text": [
      "C:\\Users\\1\\Anaconda3\\lib\\site-packages\\sklearn\\utils\\validation.py:578: DataConversionWarning: A column-vector y was passed when a 1d array was expected. Please change the shape of y to (n_samples, ), for example using ravel().\n",
      "  y = column_or_1d(y, warn=True)\n"
     ]
    },
    {
     "data": {
      "text/plain": [
       "0.46386666666666665"
      ]
     },
     "execution_count": 14,
     "metadata": {},
     "output_type": "execute_result"
    }
   ],
   "source": [
    "model = GaussianNB()\n",
    "model.fit( X_train , y_train )\n",
    "model.score( X_test , y_test )"
   ]
  },
  {
   "cell_type": "code",
   "execution_count": null,
   "metadata": {
    "collapsed": true
   },
   "outputs": [],
   "source": [
    "#K近邻"
   ]
  },
  {
   "cell_type": "code",
   "execution_count": 15,
   "metadata": {
    "collapsed": true
   },
   "outputs": [],
   "source": [
    "from sklearn.neighbors import KNeighborsClassifier"
   ]
  },
  {
   "cell_type": "code",
   "execution_count": 16,
   "metadata": {},
   "outputs": [
    {
     "name": "stderr",
     "output_type": "stream",
     "text": [
      "C:\\Users\\1\\Anaconda3\\lib\\site-packages\\ipykernel_launcher.py:2: DataConversionWarning: A column-vector y was passed when a 1d array was expected. Please change the shape of y to (n_samples, ), for example using ravel().\n",
      "  \n"
     ]
    },
    {
     "data": {
      "text/plain": [
       "0.8089333333333333"
      ]
     },
     "execution_count": 16,
     "metadata": {},
     "output_type": "execute_result"
    }
   ],
   "source": [
    "model = KNeighborsClassifier(n_neighbors = 3)\n",
    "model.fit( X_train , y_train )\n",
    "model.score( X_test , y_test )"
   ]
  },
  {
   "cell_type": "code",
   "execution_count": 17,
   "metadata": {},
   "outputs": [
    {
     "name": "stderr",
     "output_type": "stream",
     "text": [
      "C:\\Users\\1\\Anaconda3\\lib\\site-packages\\ipykernel_launcher.py:2: DataConversionWarning: A column-vector y was passed when a 1d array was expected. Please change the shape of y to (n_samples, ), for example using ravel().\n",
      "  \n"
     ]
    },
    {
     "data": {
      "text/plain": [
       "0.8170666666666667"
      ]
     },
     "execution_count": 17,
     "metadata": {},
     "output_type": "execute_result"
    }
   ],
   "source": [
    "model = KNeighborsClassifier(n_neighbors = 5)\n",
    "model.fit( X_train , y_train )\n",
    "model.score( X_test , y_test )"
   ]
  },
  {
   "cell_type": "code",
   "execution_count": 18,
   "metadata": {},
   "outputs": [
    {
     "name": "stderr",
     "output_type": "stream",
     "text": [
      "C:\\Users\\1\\Anaconda3\\lib\\site-packages\\ipykernel_launcher.py:2: DataConversionWarning: A column-vector y was passed when a 1d array was expected. Please change the shape of y to (n_samples, ), for example using ravel().\n",
      "  \n"
     ]
    },
    {
     "data": {
      "text/plain": [
       "0.8233333333333334"
      ]
     },
     "execution_count": 18,
     "metadata": {},
     "output_type": "execute_result"
    }
   ],
   "source": [
    "model = KNeighborsClassifier(n_neighbors = 8)\n",
    "model.fit( X_train , y_train )\n",
    "model.score( X_test , y_test )"
   ]
  },
  {
   "cell_type": "code",
   "execution_count": 19,
   "metadata": {
    "scrolled": true
   },
   "outputs": [
    {
     "name": "stderr",
     "output_type": "stream",
     "text": [
      "C:\\Users\\1\\Anaconda3\\lib\\site-packages\\ipykernel_launcher.py:2: DataConversionWarning: A column-vector y was passed when a 1d array was expected. Please change the shape of y to (n_samples, ), for example using ravel().\n",
      "  \n"
     ]
    },
    {
     "data": {
      "text/plain": [
       "0.8289333333333333"
      ]
     },
     "execution_count": 19,
     "metadata": {},
     "output_type": "execute_result"
    }
   ],
   "source": [
    "model = KNeighborsClassifier(n_neighbors = 20)\n",
    "model.fit( X_train , y_train )\n",
    "model.score( X_test , y_test )"
   ]
  },
  {
   "cell_type": "code",
   "execution_count": 21,
   "metadata": {},
   "outputs": [
    {
     "name": "stderr",
     "output_type": "stream",
     "text": [
      "C:\\Users\\1\\Anaconda3\\lib\\site-packages\\ipykernel_launcher.py:2: DataConversionWarning: A column-vector y was passed when a 1d array was expected. Please change the shape of y to (n_samples, ), for example using ravel().\n",
      "  \n"
     ]
    },
    {
     "data": {
      "text/plain": [
       "0.8226"
      ]
     },
     "execution_count": 21,
     "metadata": {},
     "output_type": "execute_result"
    }
   ],
   "source": [
    "model = KNeighborsClassifier(n_neighbors = 50)\n",
    "model.fit( X_train , y_train )\n",
    "model.score( X_test , y_test )"
   ]
  },
  {
   "cell_type": "code",
   "execution_count": 20,
   "metadata": {},
   "outputs": [
    {
     "name": "stderr",
     "output_type": "stream",
     "text": [
      "C:\\Users\\1\\Anaconda3\\lib\\site-packages\\ipykernel_launcher.py:2: DataConversionWarning: A column-vector y was passed when a 1d array was expected. Please change the shape of y to (n_samples, ), for example using ravel().\n",
      "  \n"
     ]
    },
    {
     "data": {
      "text/plain": [
       "0.8166666666666667"
      ]
     },
     "execution_count": 20,
     "metadata": {},
     "output_type": "execute_result"
    }
   ],
   "source": [
    "model = KNeighborsClassifier(n_neighbors = 100)\n",
    "model.fit( X_train , y_train )\n",
    "model.score( X_test , y_test )"
   ]
  },
  {
   "cell_type": "code",
   "execution_count": null,
   "metadata": {
    "collapsed": true
   },
   "outputs": [],
   "source": [
    "#梯度提升"
   ]
  },
  {
   "cell_type": "code",
   "execution_count": 48,
   "metadata": {
    "collapsed": true
   },
   "outputs": [],
   "source": [
    "from sklearn.ensemble import GradientBoostingClassifier"
   ]
  },
  {
   "cell_type": "code",
   "execution_count": 49,
   "metadata": {},
   "outputs": [
    {
     "name": "stderr",
     "output_type": "stream",
     "text": [
      "C:\\Users\\1\\Anaconda3\\lib\\site-packages\\sklearn\\utils\\validation.py:578: DataConversionWarning: A column-vector y was passed when a 1d array was expected. Please change the shape of y to (n_samples, ), for example using ravel().\n",
      "  y = column_or_1d(y, warn=True)\n"
     ]
    },
    {
     "data": {
      "text/plain": [
       "0.8491333333333333"
      ]
     },
     "execution_count": 49,
     "metadata": {},
     "output_type": "execute_result"
    }
   ],
   "source": [
    "model = GradientBoostingClassifier()\n",
    "model.fit( X_train , y_train )\n",
    "model.score( X_test , y_test )"
   ]
  },
  {
   "cell_type": "code",
   "execution_count": null,
   "metadata": {
    "collapsed": true
   },
   "outputs": [],
   "source": [
    "#支持向量机"
   ]
  },
  {
   "cell_type": "code",
   "execution_count": 29,
   "metadata": {
    "collapsed": true
   },
   "outputs": [],
   "source": [
    "from sklearn.svm import SVC"
   ]
  },
  {
   "cell_type": "code",
   "execution_count": 51,
   "metadata": {
    "scrolled": true
   },
   "outputs": [
    {
     "name": "stderr",
     "output_type": "stream",
     "text": [
      "C:\\Users\\1\\Anaconda3\\lib\\site-packages\\sklearn\\utils\\validation.py:578: DataConversionWarning: A column-vector y was passed when a 1d array was expected. Please change the shape of y to (n_samples, ), for example using ravel().\n",
      "  y = column_or_1d(y, warn=True)\n"
     ]
    },
    {
     "data": {
      "text/plain": [
       "0.8618"
      ]
     },
     "execution_count": 51,
     "metadata": {},
     "output_type": "execute_result"
    }
   ],
   "source": [
    "model = SVC()\n",
    "model.fit( X_train , y_train )\n",
    "model.score( X_test , y_test )"
   ]
  },
  {
   "cell_type": "code",
   "execution_count": 45,
   "metadata": {
    "scrolled": true
   },
   "outputs": [
    {
     "name": "stderr",
     "output_type": "stream",
     "text": [
      "C:\\Users\\1\\Anaconda3\\lib\\site-packages\\sklearn\\utils\\validation.py:578: DataConversionWarning: A column-vector y was passed when a 1d array was expected. Please change the shape of y to (n_samples, ), for example using ravel().\n",
      "  y = column_or_1d(y, warn=True)\n"
     ]
    },
    {
     "data": {
      "text/plain": [
       "0.8630666666666666"
      ]
     },
     "execution_count": 45,
     "metadata": {},
     "output_type": "execute_result"
    }
   ],
   "source": [
    "model = SVC(    C=1.0,  \n",
    "                kernel='rbf',  \n",
    "                degree=3, \n",
    "                gamma=0.03, \n",
    "                coef0=0.0, \n",
    "                shrinking=True, \n",
    "                probability=False, \n",
    "                tol=0.001,  \n",
    "                cache_size=200, \n",
    "                class_weight=None, \n",
    "                verbose=False,  \n",
    "                max_iter=-1, \n",
    "                decision_function_shape=None, \n",
    "                random_state=None   )\n",
    "model.fit( X_train , y_train )\n",
    "model.score( X_test , y_test )    "
   ]
  },
  {
   "cell_type": "code",
   "execution_count": null,
   "metadata": {
    "collapsed": true
   },
   "outputs": [],
   "source": [
    "#"
   ]
  },
  {
   "cell_type": "code",
   "execution_count": 53,
   "metadata": {
    "collapsed": true
   },
   "outputs": [],
   "source": [
    "from sklearn.svm import LinearSVC"
   ]
  },
  {
   "cell_type": "code",
   "execution_count": 54,
   "metadata": {},
   "outputs": [
    {
     "name": "stderr",
     "output_type": "stream",
     "text": [
      "C:\\Users\\1\\Anaconda3\\lib\\site-packages\\sklearn\\utils\\validation.py:578: DataConversionWarning: A column-vector y was passed when a 1d array was expected. Please change the shape of y to (n_samples, ), for example using ravel().\n",
      "  y = column_or_1d(y, warn=True)\n"
     ]
    },
    {
     "data": {
      "text/plain": [
       "0.8394"
      ]
     },
     "execution_count": 54,
     "metadata": {},
     "output_type": "execute_result"
    }
   ],
   "source": [
    "model = LinearSVC()\n",
    "model.fit( X_train , y_train )\n",
    "model.score( X_test , y_test )"
   ]
  },
  {
   "cell_type": "code",
   "execution_count": null,
   "metadata": {
    "collapsed": true
   },
   "outputs": [],
   "source": [
    "#决策树"
   ]
  },
  {
   "cell_type": "code",
   "execution_count": 55,
   "metadata": {
    "collapsed": true
   },
   "outputs": [],
   "source": [
    "from sklearn.tree import DecisionTreeClassifier"
   ]
  },
  {
   "cell_type": "code",
   "execution_count": 56,
   "metadata": {},
   "outputs": [
    {
     "data": {
      "text/plain": [
       "0.7758"
      ]
     },
     "execution_count": 56,
     "metadata": {},
     "output_type": "execute_result"
    }
   ],
   "source": [
    "model = DecisionTreeClassifier()\n",
    "model.fit( X_train , y_train )\n",
    "model.score( X_test , y_test )"
   ]
  },
  {
   "cell_type": "code",
   "execution_count": null,
   "metadata": {
    "collapsed": true
   },
   "outputs": [],
   "source": [
    "#随机森林"
   ]
  },
  {
   "cell_type": "code",
   "execution_count": 57,
   "metadata": {
    "collapsed": true
   },
   "outputs": [],
   "source": [
    "from sklearn.ensemble import RandomForestClassifier"
   ]
  },
  {
   "cell_type": "code",
   "execution_count": 58,
   "metadata": {},
   "outputs": [
    {
     "name": "stderr",
     "output_type": "stream",
     "text": [
      "C:\\Users\\1\\Anaconda3\\lib\\site-packages\\ipykernel_launcher.py:2: DataConversionWarning: A column-vector y was passed when a 1d array was expected. Please change the shape of y to (n_samples,), for example using ravel().\n",
      "  \n"
     ]
    },
    {
     "data": {
      "text/plain": [
       "0.8307333333333333"
      ]
     },
     "execution_count": 58,
     "metadata": {},
     "output_type": "execute_result"
    }
   ],
   "source": [
    "model = RandomForestClassifier()\n",
    "model.fit( X_train , y_train )\n",
    "model.score( X_test , y_test )"
   ]
  },
  {
   "cell_type": "code",
   "execution_count": null,
   "metadata": {
    "collapsed": true
   },
   "outputs": [],
   "source": []
  },
  {
   "cell_type": "code",
   "execution_count": null,
   "metadata": {
    "collapsed": true
   },
   "outputs": [],
   "source": []
  }
 ],
 "metadata": {
  "kernelspec": {
   "display_name": "Python 3",
   "language": "python",
   "name": "python3"
  },
  "language_info": {
   "codemirror_mode": {
    "name": "ipython",
    "version": 3
   },
   "file_extension": ".py",
   "mimetype": "text/x-python",
   "name": "python",
   "nbconvert_exporter": "python",
   "pygments_lexer": "ipython3",
   "version": "3.6.3"
  }
 },
 "nbformat": 4,
 "nbformat_minor": 2
}
